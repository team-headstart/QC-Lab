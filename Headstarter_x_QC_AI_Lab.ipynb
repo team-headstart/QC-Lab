{
  "nbformat": 4,
  "nbformat_minor": 0,
  "metadata": {
    "colab": {
      "provenance": []
    },
    "kernelspec": {
      "name": "python3",
      "display_name": "Python 3"
    },
    "language_info": {
      "name": "python"
    }
  },
  "cells": [
    {
      "cell_type": "markdown",
      "source": [
        "# Install necessary packages"
      ],
      "metadata": {
        "id": "y6SQsJvDd2BP"
      }
    },
    {
      "cell_type": "code",
      "execution_count": null,
      "metadata": {
        "id": "fKNWIZjzdvxO"
      },
      "outputs": [],
      "source": [
        "! pip install openai\n",
        "! pip install pydub\n",
        "! pip install fpdf\n",
        "! pip install PyPDF2"
      ]
    },
    {
      "cell_type": "code",
      "source": [
        "from google.colab import userdata\n",
        "import requests\n",
        "import base64\n",
        "from openai import OpenAI\n",
        "import io\n",
        "from pydub import AudioSegment\n",
        "from pydub.playback import play\n",
        "from IPython.display import Audio, display\n",
        "import PyPDF2\n",
        "\n",
        "client = OpenAI(api_key=\"<INSERT OPENAI_API_KEY HERE>\") # Log onto platform.openai.com and get your API key from there"
      ],
      "metadata": {
        "id": "oMwjfKHud4X3"
      },
      "execution_count": 2,
      "outputs": []
    },
    {
      "cell_type": "code",
      "source": [],
      "metadata": {
        "id": "s-xRdA0rd52b"
      },
      "execution_count": null,
      "outputs": []
    },
    {
      "cell_type": "markdown",
      "source": [
        "# Chat Completions"
      ],
      "metadata": {
        "id": "pNqrhG0Od8NQ"
      }
    },
    {
      "cell_type": "code",
      "source": [],
      "metadata": {
        "id": "1hgzDinSd9Nj"
      },
      "execution_count": null,
      "outputs": []
    },
    {
      "cell_type": "code",
      "source": [],
      "metadata": {
        "id": "9oSq5U5vd9jl"
      },
      "execution_count": null,
      "outputs": []
    },
    {
      "cell_type": "code",
      "source": [],
      "metadata": {
        "id": "rkxbDrBCd9l-"
      },
      "execution_count": null,
      "outputs": []
    },
    {
      "cell_type": "markdown",
      "source": [
        "# GPT-4 Vision"
      ],
      "metadata": {
        "id": "-BRe-2Efd9sz"
      }
    },
    {
      "cell_type": "code",
      "source": [
        "# Function to encode the image\n",
        "def encode_image(image_path):\n",
        "    with open(image_path, \"rb\") as image_file:\n",
        "        return base64.b64encode(image_file.read()).decode('utf-8')"
      ],
      "metadata": {
        "id": "pfBd_Uk5d-vJ"
      },
      "execution_count": 3,
      "outputs": []
    },
    {
      "cell_type": "code",
      "source": [],
      "metadata": {
        "id": "8fsoc8cpeAiM"
      },
      "execution_count": null,
      "outputs": []
    },
    {
      "cell_type": "code",
      "source": [],
      "metadata": {
        "id": "Hj_MhpU2eHKt"
      },
      "execution_count": null,
      "outputs": []
    },
    {
      "cell_type": "markdown",
      "source": [
        "# Text to Audio"
      ],
      "metadata": {
        "id": "hVIkW7AxeHae"
      }
    },
    {
      "cell_type": "code",
      "source": [
        "def stream_text_as_audio(text):\n",
        "\n",
        "    return"
      ],
      "metadata": {
        "id": "DNy1FAXxeIRn"
      },
      "execution_count": 4,
      "outputs": []
    },
    {
      "cell_type": "code",
      "source": [],
      "metadata": {
        "id": "MwT3SFxveJ0y"
      },
      "execution_count": null,
      "outputs": []
    },
    {
      "cell_type": "code",
      "source": [],
      "metadata": {
        "id": "ZLDjueZeeNk6"
      },
      "execution_count": null,
      "outputs": []
    },
    {
      "cell_type": "markdown",
      "source": [
        "# Chat with PDF"
      ],
      "metadata": {
        "id": "2EmtyLV4eNrM"
      }
    },
    {
      "cell_type": "code",
      "source": [
        "def extract_text_from_pdf(pdf_file_path):\n",
        "    text = \"\"\n",
        "    with open(pdf_file_path, 'rb') as file:\n",
        "        reader = PyPDF2.PdfReader(file)\n",
        "\n",
        "        # Iterate through each page and extract text\n",
        "        for page_num in range(len(reader.pages)):\n",
        "            page = reader.pages[page_num]\n",
        "            text += page.extract_text()\n",
        "\n",
        "    return text"
      ],
      "metadata": {
        "id": "x2tct4sYeOSN"
      },
      "execution_count": 6,
      "outputs": []
    },
    {
      "cell_type": "code",
      "source": [
        "# Example usage\n",
        "pdf_path = '/content/<FILE_NAME_HERE>.pdf'  # Replace with your PDF file path\n",
        "extracted_text = extract_text_from_pdf(pdf_path)\n",
        "print(extracted_text)"
      ],
      "metadata": {
        "id": "up9yGppmeOhR"
      },
      "execution_count": null,
      "outputs": []
    }
  ]
}
