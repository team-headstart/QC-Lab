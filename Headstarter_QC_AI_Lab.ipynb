{
  "nbformat": 4,
  "nbformat_minor": 0,
  "metadata": {
    "colab": {
      "provenance": []
    },
    "kernelspec": {
      "name": "python3",
      "display_name": "Python 3"
    },
    "language_info": {
      "name": "python"
    }
  },
  "cells": [
    {
      "cell_type": "markdown",
      "source": [
        "# Install the necessary Python Packages"
      ],
      "metadata": {
        "id": "L_Kg9pViwBXO"
      }
    },
    {
      "cell_type": "code",
      "source": [
        "! pip install openai\n",
        "! pip install pydub\n",
        "! pip install fpdf\n",
        "! pip install PyPDF2"
      ],
      "metadata": {
        "colab": {
          "base_uri": "https://localhost:8080/"
        },
        "id": "2hraicEbuBEj",
        "outputId": "a8f4860e-3fad-4349-fb1c-be5185a5dde4"
      },
      "execution_count": 2,
      "outputs": [
        {
          "output_type": "stream",
          "name": "stdout",
          "text": [
            "Collecting openai\n",
            "  Downloading openai-1.3.3-py3-none-any.whl (220 kB)\n",
            "\u001b[2K     \u001b[90m━━━━━━━━━━━━━━━━━━━━━━━━━━━━━━━━━━━━━━━━\u001b[0m \u001b[32m220.3/220.3 kB\u001b[0m \u001b[31m3.1 MB/s\u001b[0m eta \u001b[36m0:00:00\u001b[0m\n",
            "\u001b[?25hRequirement already satisfied: anyio<4,>=3.5.0 in /usr/local/lib/python3.10/dist-packages (from openai) (3.7.1)\n",
            "Requirement already satisfied: distro<2,>=1.7.0 in /usr/lib/python3/dist-packages (from openai) (1.7.0)\n",
            "Collecting httpx<1,>=0.23.0 (from openai)\n",
            "  Downloading httpx-0.25.1-py3-none-any.whl (75 kB)\n",
            "\u001b[2K     \u001b[90m━━━━━━━━━━━━━━━━━━━━━━━━━━━━━━━━━━━━━━━━\u001b[0m \u001b[32m75.0/75.0 kB\u001b[0m \u001b[31m6.6 MB/s\u001b[0m eta \u001b[36m0:00:00\u001b[0m\n",
            "\u001b[?25hRequirement already satisfied: pydantic<3,>=1.9.0 in /usr/local/lib/python3.10/dist-packages (from openai) (1.10.13)\n",
            "Requirement already satisfied: tqdm>4 in /usr/local/lib/python3.10/dist-packages (from openai) (4.66.1)\n",
            "Requirement already satisfied: typing-extensions<5,>=4.5 in /usr/local/lib/python3.10/dist-packages (from openai) (4.5.0)\n",
            "Requirement already satisfied: idna>=2.8 in /usr/local/lib/python3.10/dist-packages (from anyio<4,>=3.5.0->openai) (3.4)\n",
            "Requirement already satisfied: sniffio>=1.1 in /usr/local/lib/python3.10/dist-packages (from anyio<4,>=3.5.0->openai) (1.3.0)\n",
            "Requirement already satisfied: exceptiongroup in /usr/local/lib/python3.10/dist-packages (from anyio<4,>=3.5.0->openai) (1.1.3)\n",
            "Requirement already satisfied: certifi in /usr/local/lib/python3.10/dist-packages (from httpx<1,>=0.23.0->openai) (2023.7.22)\n",
            "Collecting httpcore (from httpx<1,>=0.23.0->openai)\n",
            "  Downloading httpcore-1.0.2-py3-none-any.whl (76 kB)\n",
            "\u001b[2K     \u001b[90m━━━━━━━━━━━━━━━━━━━━━━━━━━━━━━━━━━━━━━━━\u001b[0m \u001b[32m76.9/76.9 kB\u001b[0m \u001b[31m8.9 MB/s\u001b[0m eta \u001b[36m0:00:00\u001b[0m\n",
            "\u001b[?25hCollecting h11<0.15,>=0.13 (from httpcore->httpx<1,>=0.23.0->openai)\n",
            "  Downloading h11-0.14.0-py3-none-any.whl (58 kB)\n",
            "\u001b[2K     \u001b[90m━━━━━━━━━━━━━━━━━━━━━━━━━━━━━━━━━━━━━━━━\u001b[0m \u001b[32m58.3/58.3 kB\u001b[0m \u001b[31m6.7 MB/s\u001b[0m eta \u001b[36m0:00:00\u001b[0m\n",
            "\u001b[?25hInstalling collected packages: h11, httpcore, httpx, openai\n",
            "\u001b[31mERROR: pip's dependency resolver does not currently take into account all the packages that are installed. This behaviour is the source of the following dependency conflicts.\n",
            "llmx 0.0.15a0 requires cohere, which is not installed.\n",
            "llmx 0.0.15a0 requires tiktoken, which is not installed.\u001b[0m\u001b[31m\n",
            "\u001b[0mSuccessfully installed h11-0.14.0 httpcore-1.0.2 httpx-0.25.1 openai-1.3.3\n",
            "Collecting pydub\n",
            "  Downloading pydub-0.25.1-py2.py3-none-any.whl (32 kB)\n",
            "Installing collected packages: pydub\n",
            "Successfully installed pydub-0.25.1\n",
            "Collecting fpdf\n",
            "  Downloading fpdf-1.7.2.tar.gz (39 kB)\n",
            "  Preparing metadata (setup.py) ... \u001b[?25l\u001b[?25hdone\n",
            "Building wheels for collected packages: fpdf\n",
            "  Building wheel for fpdf (setup.py) ... \u001b[?25l\u001b[?25hdone\n",
            "  Created wheel for fpdf: filename=fpdf-1.7.2-py2.py3-none-any.whl size=40703 sha256=8283a3d67f7323c661c03ab9b52b0e233ba43fc048c33dcc08f0a7eca96322fa\n",
            "  Stored in directory: /root/.cache/pip/wheels/f9/95/ba/f418094659025eb9611f17cbcaf2334236bf39a0c3453ea455\n",
            "Successfully built fpdf\n",
            "Installing collected packages: fpdf\n",
            "Successfully installed fpdf-1.7.2\n",
            "Collecting PyPDF2\n",
            "  Downloading pypdf2-3.0.1-py3-none-any.whl (232 kB)\n",
            "\u001b[2K     \u001b[90m━━━━━━━━━━━━━━━━━━━━━━━━━━━━━━━━━━━━━━━━\u001b[0m \u001b[32m232.6/232.6 kB\u001b[0m \u001b[31m3.9 MB/s\u001b[0m eta \u001b[36m0:00:00\u001b[0m\n",
            "\u001b[?25hInstalling collected packages: PyPDF2\n",
            "Successfully installed PyPDF2-3.0.1\n"
          ]
        }
      ]
    },
    {
      "cell_type": "markdown",
      "source": [
        "# Import Libraries"
      ],
      "metadata": {
        "id": "_BLtO7xnv_oP"
      }
    },
    {
      "cell_type": "code",
      "execution_count": 3,
      "metadata": {
        "id": "HKhfvajctc98"
      },
      "outputs": [],
      "source": [
        "from google.colab import userdata\n",
        "import requests\n",
        "import base64\n",
        "from openai import OpenAI\n",
        "import io\n",
        "from pydub import AudioSegment\n",
        "from pydub.playback import play\n",
        "from IPython.display import Audio, display\n",
        "import PyPDF2\n",
        "\n",
        "client = OpenAI(api_key=\"<INSERT OPENAI_API_KEY HERE>\") # Get your OpenAI API Key by logging onto platform.openai.com"
      ]
    },
    {
      "cell_type": "markdown",
      "source": [
        "# Chat Completions"
      ],
      "metadata": {
        "id": "Iy4QrnwOv3jd"
      }
    },
    {
      "cell_type": "code",
      "source": [
        "def stream_gpt(query, model):\n",
        "\n",
        "    completion = client.chat.completions.create(\n",
        "        model = model,\n",
        "        messages = [\n",
        "            {\"role\": \"system\", \"content\": \"You are a helpful assistant\"},\n",
        "            {\"role\": \"user\", \"content\": query}\n",
        "        ],\n",
        "        stream=True\n",
        "    )\n",
        "\n",
        "    for chunk in completion:\n",
        "      print(chunk.choices[0].delta.content, end='')\n"
      ],
      "metadata": {
        "id": "50hw3gSLuIB1"
      },
      "execution_count": null,
      "outputs": []
    },
    {
      "cell_type": "code",
      "source": [
        "stream_gpt(\"Tell me about CUNY Queens College\", model=\"gpt-4\")"
      ],
      "metadata": {
        "id": "S9XpOI9FyqAD",
        "colab": {
          "base_uri": "https://localhost:8080/"
        },
        "outputId": "9dc6467d-4f5e-415f-eff1-d7b95345197a"
      },
      "execution_count": null,
      "outputs": [
        {
          "output_type": "stream",
          "name": "stdout",
          "text": [
            "The City University of New York (CUNY) Queens College is a public college located in the New York City borough of Queens. Established in 1937, it's part of the City University of New York system. The college offers more than 80 undergraduate and graduate degree programs through its four divisions: Arts & Humanities, Mathematics & Natural Sciences, Education, and Social Sciences.\n",
            "\n",
            "Queens College has a diverse student body, with students from over 150 countries. They offer a vibrant campus life with various student clubs, sports teams, and social events. Queens College is also known for its strong faculty, with many professors recognized as leading experts in their fields.\n",
            "\n",
            "Some of the notable alumni of Queens College include Jerry Seinfeld, Paul Simon, and Carole King. The college is well-regarded for its commitment to providing an affordable, high-quality education.\n",
            "\n",
            "The college campus is located on a 77-acre plot and houses facilities such as the Benjamin Rosenthal Library, the Kupferberg Center for the Visual and Performing Arts, and the Queens Hall.None"
          ]
        }
      ]
    },
    {
      "cell_type": "code",
      "source": [],
      "metadata": {
        "id": "clYXnnu-3mFU"
      },
      "execution_count": null,
      "outputs": []
    },
    {
      "cell_type": "markdown",
      "source": [
        "# GPT-4 Vision"
      ],
      "metadata": {
        "id": "2gHRr6K73mZ4"
      }
    },
    {
      "cell_type": "code",
      "source": [
        "# Function to encode the image\n",
        "def encode_image(image_path):\n",
        "    with open(image_path, \"rb\") as image_file:\n",
        "        return base64.b64encode(image_file.read()).decode('utf-8')"
      ],
      "metadata": {
        "id": "q67wDrfo5JVz"
      },
      "execution_count": null,
      "outputs": []
    },
    {
      "cell_type": "code",
      "source": [
        "def stream_gpt_vision(query, image_path):\n",
        "\n",
        "    base64_image = encode_image(image_path)\n",
        "    image_input =  [\n",
        "          {\n",
        "            \"type\": \"text\",\n",
        "            \"text\": query,\n",
        "          },\n",
        "          {\n",
        "            \"type\": \"image_url\",\n",
        "            \"image_url\": {\n",
        "              \"url\": f\"data:image/jpeg;base64,{base64_image}\"\n",
        "            }\n",
        "          }\n",
        "    ]\n",
        "\n",
        "    completion = client.chat.completions.create(\n",
        "        model=\"gpt-4-vision-preview\",\n",
        "        messages=[\n",
        "            {\"role\": \"system\", \"content\": \"You are an expert at turning images mock-up designs into full fledged code. Give me the HTML and CSS code to create a website like the image attached\"},\n",
        "            {\"role\": \"user\", \"content\": image_input}\n",
        "        ],\n",
        "        max_tokens=500\n",
        "    )\n",
        "\n",
        "    print(completion.choices[0].message.content)\n",
        "    return completion"
      ],
      "metadata": {
        "id": "xFxCKWws3ntt"
      },
      "execution_count": null,
      "outputs": []
    },
    {
      "cell_type": "code",
      "source": [
        "\n",
        "# Replace the image_path below with an image you upload in Colab\n",
        "\n",
        "res = stream_gpt_vision(query=\"Give me the HTML and CSS code for my mock up design\", image_path=\"/content/landing_page_example.png\")"
      ],
      "metadata": {
        "colab": {
          "base_uri": "https://localhost:8080/"
        },
        "id": "X-GyUpLC6Gmx",
        "outputId": "6b1d7329-e27c-47d8-803f-b13ac31fb773"
      },
      "execution_count": null,
      "outputs": [
        {
          "output_type": "stream",
          "name": "stdout",
          "text": [
            "ChatCompletion(id='chatcmpl-8KEPonSSWPom0Wg9b2j41HBOanFai', choices=[Choice(finish_reason=None, index=0, message=ChatCompletionMessage(content='Based on the design mockup you provided, below is an example of how you could translate this design into HTML and CSS.\\n\\nHTML (index.html):\\n```html\\n<!DOCTYPE html>\\n<html lang=\"en\">\\n<head>\\n    <meta charset=\"UTF-8\">\\n    <meta name=\"viewport\" content=\"width=device-width, initial-scale=1.0\">\\n    <link rel=\"stylesheet\" href=\"styles.css\">\\n    <title>Landing Page</title>\\n</head>\\n<body>\\n    <header class=\"header\">\\n        <div class=\"menu-icon\">≡</div>\\n        <button class=\"contact-button\">Contact</button>\\n    </header>\\n    <main class=\"main\">\\n        <div class=\"headline-section\">\\n            <h1>A Thought-Provoking Headline</h1>\\n            <p>A quick value proposition that will make your visitors want to click on or sign up for your offer.</p>\\n            <div class=\"email-signup\">\\n                <input type=\"email\" placeholder=\"Insert email address\">\\n                <button class=\"signup-button\">Sign Up</button>\\n            </div>\\n            <div class=\"testimonial\">\\n                <span class=\"icon\">☆</span>\\n                <span>Our Happy Customers</span>\\n                <span class=\"rating\">4.5 (100K Reviews)</span>\\n            </div>\\n        </div>\\n        <div class=\"hero-section\">\\n            <div class=\"hero-blob\"></div>\\n            <div class=\"hero-content\">\\n                <h2>Hero Image</h2>\\n                <p>that highlights your product or its value</p>\\n            </div>\\n        </div>\\n    </main>\\n</body>\\n</html>\\n```\\n\\nCSS (styles.css):\\n```css\\n/* Basic Reset */\\n* {\\n    margin: 0;\\n    padding: 0;\\n    box-sizing: border-box;\\n}\\n\\nbody {\\n    font-family: Arial, sans-serif;\\n    background-color: #7c4dff; /* Adjust the color as per your design */\\n}\\n\\n.header {\\n    display: flex;\\n    justify-content: space-between;\\n    padding: 1em;\\n    color: white;\\n}\\n\\n.menu-icon {\\n    /* Adjust as per design for the hamburger menu */\\n}\\n\\n.contact-button {\\n    border: none;\\n    background-color: #ab47bc; /* Adjust the color as per your design */\\n    color: white;\\n    padding: 0.5em', role='assistant', function_call=None, tool_calls=None), finish_details={'type': 'max_tokens'})], created=1699832664, model='gpt-4-1106-vision-preview', object='chat.completion', system_fingerprint=None, usage=CompletionUsage(completion_tokens=500, prompt_tokens=1159, total_tokens=1659))\n"
          ]
        }
      ]
    },
    {
      "cell_type": "code",
      "source": [
        "print(res.choices[0].message.content)"
      ],
      "metadata": {
        "colab": {
          "base_uri": "https://localhost:8080/"
        },
        "id": "KTR77s7D6XLg",
        "outputId": "2bf380b2-88cf-492a-891a-87a61f888315"
      },
      "execution_count": null,
      "outputs": [
        {
          "output_type": "stream",
          "name": "stdout",
          "text": [
            "Based on the design mockup you provided, below is an example of how you could translate this design into HTML and CSS.\n",
            "\n",
            "HTML (index.html):\n",
            "```html\n",
            "<!DOCTYPE html>\n",
            "<html lang=\"en\">\n",
            "<head>\n",
            "    <meta charset=\"UTF-8\">\n",
            "    <meta name=\"viewport\" content=\"width=device-width, initial-scale=1.0\">\n",
            "    <link rel=\"stylesheet\" href=\"styles.css\">\n",
            "    <title>Landing Page</title>\n",
            "</head>\n",
            "<body>\n",
            "    <header class=\"header\">\n",
            "        <div class=\"menu-icon\">≡</div>\n",
            "        <button class=\"contact-button\">Contact</button>\n",
            "    </header>\n",
            "    <main class=\"main\">\n",
            "        <div class=\"headline-section\">\n",
            "            <h1>A Thought-Provoking Headline</h1>\n",
            "            <p>A quick value proposition that will make your visitors want to click on or sign up for your offer.</p>\n",
            "            <div class=\"email-signup\">\n",
            "                <input type=\"email\" placeholder=\"Insert email address\">\n",
            "                <button class=\"signup-button\">Sign Up</button>\n",
            "            </div>\n",
            "            <div class=\"testimonial\">\n",
            "                <span class=\"icon\">☆</span>\n",
            "                <span>Our Happy Customers</span>\n",
            "                <span class=\"rating\">4.5 (100K Reviews)</span>\n",
            "            </div>\n",
            "        </div>\n",
            "        <div class=\"hero-section\">\n",
            "            <div class=\"hero-blob\"></div>\n",
            "            <div class=\"hero-content\">\n",
            "                <h2>Hero Image</h2>\n",
            "                <p>that highlights your product or its value</p>\n",
            "            </div>\n",
            "        </div>\n",
            "    </main>\n",
            "</body>\n",
            "</html>\n",
            "```\n",
            "\n",
            "CSS (styles.css):\n",
            "```css\n",
            "/* Basic Reset */\n",
            "* {\n",
            "    margin: 0;\n",
            "    padding: 0;\n",
            "    box-sizing: border-box;\n",
            "}\n",
            "\n",
            "body {\n",
            "    font-family: Arial, sans-serif;\n",
            "    background-color: #7c4dff; /* Adjust the color as per your design */\n",
            "}\n",
            "\n",
            ".header {\n",
            "    display: flex;\n",
            "    justify-content: space-between;\n",
            "    padding: 1em;\n",
            "    color: white;\n",
            "}\n",
            "\n",
            ".menu-icon {\n",
            "    /* Adjust as per design for the hamburger menu */\n",
            "}\n",
            "\n",
            ".contact-button {\n",
            "    border: none;\n",
            "    background-color: #ab47bc; /* Adjust the color as per your design */\n",
            "    color: white;\n",
            "    padding: 0.5em\n"
          ]
        }
      ]
    },
    {
      "cell_type": "code",
      "source": [],
      "metadata": {
        "id": "GtuaMVB27ImB"
      },
      "execution_count": null,
      "outputs": []
    },
    {
      "cell_type": "markdown",
      "source": [
        "# Text to Speech"
      ],
      "metadata": {
        "id": "MLTnWSZa8U1t"
      }
    },
    {
      "cell_type": "code",
      "source": [
        "def stream_text_as_audio(text):\n",
        "\n",
        "    response = client.audio.speech.create(\n",
        "        model=\"tts-1\",\n",
        "        voice=\"alloy\",\n",
        "        input=text,\n",
        "    )\n",
        "\n",
        "    byte_stream = io.BytesIO(response.content)\n",
        "    audio = AudioSegment.from_file(byte_stream, format=\"mp3\")\n",
        "\n",
        "    return audio\n",
        "\n",
        "\n",
        "def gpt_vision_joke(image_path):\n",
        "\n",
        "    base64_image = encode_image(image_path)\n",
        "    image_input =  [\n",
        "          {\n",
        "            \"type\": \"text\",\n",
        "            \"text\": \"Tell me a short funny joke about what's in the image\",\n",
        "          },\n",
        "          {\n",
        "            \"type\": \"image_url\",\n",
        "            \"image_url\": {\n",
        "              \"url\": f\"data:image/jpeg;base64,{base64_image}\"\n",
        "            }\n",
        "          }\n",
        "    ]\n",
        "\n",
        "    completion = client.chat.completions.create(\n",
        "        model=\"gpt-4-vision-preview\",\n",
        "        messages=[\n",
        "            {\"role\": \"user\", \"content\": image_input}\n",
        "        ],\n",
        "        max_tokens=500\n",
        "    )\n",
        "\n",
        "    return completion.choices[0].message.content\n",
        "\n"
      ],
      "metadata": {
        "id": "NnJxMVd58ZwC"
      },
      "execution_count": null,
      "outputs": []
    },
    {
      "cell_type": "code",
      "source": [
        "vision_resp = gpt_vision_joke(image_path=\"/content/<INSERT IMAGE_PATH HERE>.jpg\") # Replace with the path of the image you upload\n",
        "\n",
        "stream_text_as_audio(vision_resp)"
      ],
      "metadata": {
        "colab": {
          "base_uri": "https://localhost:8080/",
          "height": 76
        },
        "id": "V8mwIpyd7r5w",
        "outputId": "b74149f6-e411-4c0b-b4fd-1106d61c148d"
      },
      "execution_count": null,
      "outputs": [
        {
          "output_type": "execute_result",
          "data": {
            "text/plain": [
              "<pydub.audio_segment.AudioSegment at 0x7950354e86a0>"
            ],
            "text/html": [
              "\n",
              "                    <audio controls>\n",
              "                        <source src=\"data:audio/mpeg;base64,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\" type=\"audio/mpeg\"/>\n",
              "                        Your browser does not support the audio element.\n",
              "                    </audio>\n",
              "                  "
            ]
          },
          "metadata": {},
          "execution_count": 16
        }
      ]
    },
    {
      "cell_type": "code",
      "source": [],
      "metadata": {
        "id": "X6oUIQvq7zQ1"
      },
      "execution_count": null,
      "outputs": []
    },
    {
      "cell_type": "markdown",
      "source": [
        "# Resume Parsing & Optimization"
      ],
      "metadata": {
        "id": "t3rnaIH9tkDu"
      }
    },
    {
      "cell_type": "code",
      "source": [
        "\n",
        "def extract_text_from_pdf(pdf_file_path):\n",
        "    text = \"\"\n",
        "    with open(pdf_file_path, 'rb') as file:\n",
        "        reader = PyPDF2.PdfReader(file)\n",
        "\n",
        "        # Iterate through each page and extract text\n",
        "        for page_num in range(len(reader.pages)):\n",
        "            page = reader.pages[page_num]\n",
        "            text += page.extract_text()\n",
        "\n",
        "    return text\n",
        "\n",
        "# Example usage\n",
        "pdf_path = '/content/<INSERT FILE_PATH HERE>.pdf'  # Replace with your PDF file path\n",
        "extracted_text = extract_text_from_pdf(pdf_path)\n",
        "print(extracted_text)\n"
      ],
      "metadata": {
        "id": "TB9-71_e7Jpf"
      },
      "execution_count": null,
      "outputs": []
    },
    {
      "cell_type": "code",
      "source": [
        "stream_gpt(query=f\"Given all the text in my resume, please optimize it for a Google Machine Learning Engineer position.  \\n My Resume: {extracted_text}\", model=\"gpt-3.5-turbo\")"
      ],
      "metadata": {
        "id": "mw7wrZvs7ru7"
      },
      "execution_count": null,
      "outputs": []
    },
    {
      "cell_type": "code",
      "source": [],
      "metadata": {
        "id": "_PNGtd6-7ryX"
      },
      "execution_count": null,
      "outputs": []
    },
    {
      "cell_type": "code",
      "source": [],
      "metadata": {
        "id": "VwIT2KQN7Jr1"
      },
      "execution_count": null,
      "outputs": []
    },
    {
      "cell_type": "code",
      "source": [],
      "metadata": {
        "id": "jrJe14V87JuW"
      },
      "execution_count": null,
      "outputs": []
    },
    {
      "cell_type": "code",
      "source": [],
      "metadata": {
        "id": "-qQPk8so7Jwt"
      },
      "execution_count": null,
      "outputs": []
    },
    {
      "cell_type": "code",
      "source": [],
      "metadata": {
        "id": "0Nk7eaXK7JzS"
      },
      "execution_count": null,
      "outputs": []
    },
    {
      "cell_type": "code",
      "source": [],
      "metadata": {
        "id": "yInPGIAO3oCd"
      },
      "execution_count": null,
      "outputs": []
    }
  ]
}